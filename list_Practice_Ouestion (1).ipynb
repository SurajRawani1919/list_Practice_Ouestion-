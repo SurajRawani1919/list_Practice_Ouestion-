{
 "cells": [
  {
   "cell_type": "code",
   "execution_count": 6,
   "id": "b1db68db-cb46-4948-9ce9-b66f8aec46a0",
   "metadata": {},
   "outputs": [
    {
     "name": "stdout",
     "output_type": "stream",
     "text": [
      "<class 'list'>\n"
     ]
    }
   ],
   "source": [
    "#empty list\n",
    "list=[]\n",
    "print(type(list))"
   ]
  },
  {
   "cell_type": "code",
   "execution_count": 8,
   "id": "3753bf07-9ecd-453c-bd76-1af5ba581671",
   "metadata": {},
   "outputs": [
    {
     "name": "stdout",
     "output_type": "stream",
     "text": [
      "[10, 'Suraj', True, 10.6, 'Ashu', 10]\n"
     ]
    }
   ],
   "source": [
    "#create a list \n",
    "list2=[10,'Suraj',True,10.6,'Ashu',10]\n",
    "print(list2)"
   ]
  },
  {
   "cell_type": "code",
   "execution_count": 10,
   "id": "1556de6b-f172-494f-8ad3-158f9503588a",
   "metadata": {},
   "outputs": [
    {
     "name": "stdout",
     "output_type": "stream",
     "text": [
      "['Suraj', True, 10.6]\n"
     ]
    }
   ],
   "source": [
    "#slicing\n",
    "print(list2[1:4])"
   ]
  },
  {
   "cell_type": "code",
   "execution_count": 16,
   "id": "e80a51d0-9e74-43b2-8662-623d0bc3f387",
   "metadata": {},
   "outputs": [
    {
     "name": "stdout",
     "output_type": "stream",
     "text": [
      "1\n",
      "2\n"
     ]
    }
   ],
   "source": [
    "#Count\n",
    "print(list2.count('Ashu'))\n",
    "print(list2.count(10))"
   ]
  },
  {
   "cell_type": "code",
   "execution_count": 56,
   "id": "a4f7d712-3b0e-4d60-8fd2-55cfd0d56f85",
   "metadata": {},
   "outputs": [
    {
     "name": "stdout",
     "output_type": "stream",
     "text": [
      "1\n",
      "4\n",
      "0\n",
      "5\n"
     ]
    }
   ],
   "source": [
    "#index \n",
    "print(list2.index('Suraj'))\n",
    "print(list2.index('Ashu'))\n",
    "print(list2.index(10))\n",
    "print(list2.index(10,1))"
   ]
  },
  {
   "cell_type": "code",
   "execution_count": 60,
   "id": "9ed2c1de-72d5-4715-9f41-3e79e4de52fa",
   "metadata": {},
   "outputs": [
    {
     "name": "stdout",
     "output_type": "stream",
     "text": [
      "[10, 'Suraj', 'coding', 'coding', True, 10.6, 'Ashu', 10]\n"
     ]
    }
   ],
   "source": [
    "#insrt\n",
    "list2.insert(2,'coding')\n",
    "print(list2)"
   ]
  },
  {
   "cell_type": "code",
   "execution_count": 64,
   "id": "b52c61a9-63d8-4785-984a-2f6637dcf964",
   "metadata": {},
   "outputs": [
    {
     "name": "stdout",
     "output_type": "stream",
     "text": [
      "[10, 'Suraj', 10.6, 'Ashu', 10]\n"
     ]
    }
   ],
   "source": [
    "#pop - deletion \n",
    "list2.pop(2)\n",
    "print(list2)"
   ]
  },
  {
   "cell_type": "code",
   "execution_count": 66,
   "id": "459f44b2-0594-45c4-aa5e-20438a10d7e8",
   "metadata": {},
   "outputs": [
    {
     "name": "stdout",
     "output_type": "stream",
     "text": [
      "[10, 'Suraj', 10.6, 'Ashu', 10, 'Aniket', 'Deepak', 'Aniket', 'Deepak']\n"
     ]
    }
   ],
   "source": [
    "#extend \n",
    "list3=['Aniket','Deepak']\n",
    "list2.extend(list3)\n",
    "print(list2)"
   ]
  },
  {
   "cell_type": "code",
   "execution_count": 71,
   "id": "0ffd3c7d-960b-4153-9437-4f494a1c6a50",
   "metadata": {},
   "outputs": [
    {
     "name": "stdout",
     "output_type": "stream",
     "text": [
      "[10, 'Suraj', 10.6, 'Ashu', 10, 'Aniket', 'Deepak', 'Aniket', 'Deepak']\n"
     ]
    }
   ],
   "source": [
    "#copy \n",
    "#list4=list2.copy() or \n",
    "list4=list2[:]  # note :-[0:n-1]\n",
    "print(list4)"
   ]
  },
  {
   "cell_type": "code",
   "execution_count": 74,
   "id": "c7a20a45-8f64-49fe-a912-ee24692f1fcf",
   "metadata": {},
   "outputs": [
    {
     "ename": "TypeError",
     "evalue": "'<' not supported between instances of 'str' and 'int'",
     "output_type": "error",
     "traceback": [
      "\u001b[1;31m---------------------------------------------------------------------------\u001b[0m",
      "\u001b[1;31mTypeError\u001b[0m                                 Traceback (most recent call last)",
      "Cell \u001b[1;32mIn[74], line 2\u001b[0m\n\u001b[0;32m      1\u001b[0m \u001b[38;5;66;03m#sort\u001b[39;00m\n\u001b[1;32m----> 2\u001b[0m \u001b[43mlist4\u001b[49m\u001b[38;5;241;43m.\u001b[39;49m\u001b[43msort\u001b[49m\u001b[43m(\u001b[49m\u001b[43m)\u001b[49m\n\u001b[0;32m      3\u001b[0m \u001b[38;5;28mprint\u001b[39m(list4)\n",
      "\u001b[1;31mTypeError\u001b[0m: '<' not supported between instances of 'str' and 'int'"
     ]
    }
   ],
   "source": [
    "#sort\n",
    "list4.sort()\n",
    "print(list4)"
   ]
  },
  {
   "cell_type": "code",
   "execution_count": 81,
   "id": "081c6fa8-56cd-4193-99e4-6b530d21f6ab",
   "metadata": {},
   "outputs": [
    {
     "name": "stdout",
     "output_type": "stream",
     "text": [
      "[10, 20, 30, 40, 50, 60, 70, 80]\n",
      "[80, 70, 60, 50, 40, 30, 20, 10]\n"
     ]
    }
   ],
   "source": [
    "#sort \n",
    "list5=[10,30,50,80,70,20,40,60]\n",
    "list5.sort()\n",
    "print(list5)  # Ascending order \n",
    "list5.sort(reverse=True) # Descending order \n",
    "print(list5)"
   ]
  },
  {
   "cell_type": "code",
   "execution_count": 86,
   "id": "3f1d4ed9-4143-4a0c-8d98-30f443c89370",
   "metadata": {},
   "outputs": [
    {
     "name": "stdout",
     "output_type": "stream",
     "text": [
      "[10, 20, 30, 40, 50, 60, 70, 80]\n"
     ]
    }
   ],
   "source": [
    "#reverse\n",
    "#list5.reverse()\n",
    "print(list5)"
   ]
  },
  {
   "cell_type": "code",
   "execution_count": 89,
   "id": "6bacc92e-aada-46e9-9547-8143e0505174",
   "metadata": {},
   "outputs": [
    {
     "name": "stdout",
     "output_type": "stream",
     "text": [
      "[10, 20, 30, 40, 50, 60, 70, 80, 90, 90, 90]\n"
     ]
    }
   ],
   "source": [
    "#append\n",
    "list5.append(90)\n",
    "print(list5)"
   ]
  },
  {
   "cell_type": "code",
   "execution_count": 2,
   "id": "e2a7d3a7-f555-485d-89b0-8067a82f50e0",
   "metadata": {},
   "outputs": [
    {
     "name": "stdout",
     "output_type": "stream",
     "text": [
      "[10, 130, 34, 10, ['Ram', 'Shayam']]\n"
     ]
    }
   ],
   "source": [
    "#nested list \n",
    "list6=[10,130,34,10,['Ram','Shayam']]\n",
    "print(list6)"
   ]
  },
  {
   "cell_type": "code",
   "execution_count": 5,
   "id": "98740574-92e2-4805-bdf5-3ceb45486bac",
   "metadata": {},
   "outputs": [
    {
     "name": "stdout",
     "output_type": "stream",
     "text": [
      "ram\n",
      "shyam\n"
     ]
    }
   ],
   "source": [
    "#list unpacking \n",
    "list7=['ram','shyam']\n",
    "name1,name2=list7\n",
    "print(name1)\n",
    "print(name2)"
   ]
  },
  {
   "cell_type": "code",
   "execution_count": 23,
   "id": "a4191ac8-7586-48e6-9b57-0d1b183abd35",
   "metadata": {},
   "outputs": [
    {
     "name": "stdout",
     "output_type": "stream",
     "text": [
      "[1, 2, 3]\n",
      "[3, 'Code']\n",
      "[1, 3]\n",
      "[1, 2, 3, 'Code']\n",
      "[1, 2, 3, 'Code']\n",
      "[1, 'Code']\n",
      "['Code', 3, 2]\n",
      "['Code', 2]\n",
      "[]\n",
      "['Code', 3, 2, 1]\n",
      "[]\n",
      "[]\n"
     ]
    }
   ],
   "source": [
    "Name=[1,2,3,\"Code\"]\n",
    "print(Name[0:3:1])\n",
    "print(Name[2:4])\n",
    "print(Name[0:5:2])\n",
    "print(Name[:4])\n",
    "print(Name[::])\n",
    "print(Name[0::3])\n",
    "print(Name[-1:-4:-1])\n",
    "print(Name[-1:-5:-2])\n",
    "print(Name[-2:-6:2])\n",
    "print(Name[-1::-1])\n",
    "print(Name[-3:-11])\n",
    "print(Name[-1:-1:-1])"
   ]
  },
  {
   "cell_type": "code",
   "execution_count": null,
   "id": "f12c2792-9f2a-4385-bca0-0ccf6df634b0",
   "metadata": {},
   "outputs": [],
   "source": []
  }
 ],
 "metadata": {
  "kernelspec": {
   "display_name": "Python 3 (ipykernel)",
   "language": "python",
   "name": "python3"
  },
  "language_info": {
   "codemirror_mode": {
    "name": "ipython",
    "version": 3
   },
   "file_extension": ".py",
   "mimetype": "text/x-python",
   "name": "python",
   "nbconvert_exporter": "python",
   "pygments_lexer": "ipython3",
   "version": "3.10.11"
  }
 },
 "nbformat": 4,
 "nbformat_minor": 5
}
